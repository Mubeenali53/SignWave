{
 "cells": [
  {
   "cell_type": "code",
   "execution_count": 1,
   "id": "2d376553-e938-4038-a5a6-c2c16a1138dc",
   "metadata": {
    "tags": []
   },
   "outputs": [],
   "source": [
    "import pandas as pd"
   ]
  },
  {
   "cell_type": "code",
   "execution_count": 17,
   "id": "68e528b8-8973-4eb2-8577-989e389f617e",
   "metadata": {
    "tags": []
   },
   "outputs": [],
   "source": [
    "header = ['l1', 'l2', 'l3', 'l4', 'l5', 'r1', 'r2', 'r3', 'r4', 'r5', 'l_ax', 'l_ay', 'l_az', 'l_gx', 'l_gy', 'l_gz']"
   ]
  },
  {
   "cell_type": "code",
   "execution_count": null,
   "id": "db77c55a-7517-4403-845e-6804a7ae0eac",
   "metadata": {},
   "outputs": [],
   "source": [
    "rf_model"
   ]
  },
  {
   "cell_type": "code",
   "execution_count": 178,
   "id": "b6ddbe1c-1b63-4d0b-97be-ad1e061769cf",
   "metadata": {
    "tags": []
   },
   "outputs": [
    {
     "data": {
      "text/plain": [
       "label\n",
       "hello        119\n",
       "sorry        119\n",
       "goodbye      119\n",
       "thank you    119\n",
       "welcome      118\n",
       "Name: count, dtype: int64"
      ]
     },
     "execution_count": 178,
     "metadata": {},
     "output_type": "execute_result"
    }
   ],
   "source": [
    "df_final['label'].value_counts()"
   ]
  },
  {
   "cell_type": "code",
   "execution_count": 176,
   "id": "e6dad85a-a0cf-4a21-bb63-ef5a77160f83",
   "metadata": {
    "tags": []
   },
   "outputs": [
    {
     "data": {
      "text/html": [
       "<div>\n",
       "<style scoped>\n",
       "    .dataframe tbody tr th:only-of-type {\n",
       "        vertical-align: middle;\n",
       "    }\n",
       "\n",
       "    .dataframe tbody tr th {\n",
       "        vertical-align: top;\n",
       "    }\n",
       "\n",
       "    .dataframe thead th {\n",
       "        text-align: right;\n",
       "    }\n",
       "</style>\n",
       "<table border=\"1\" class=\"dataframe\">\n",
       "  <thead>\n",
       "    <tr style=\"text-align: right;\">\n",
       "      <th></th>\n",
       "      <th>l1</th>\n",
       "      <th>l2</th>\n",
       "      <th>l3</th>\n",
       "      <th>l4</th>\n",
       "      <th>l5</th>\n",
       "      <th>r1</th>\n",
       "      <th>r2</th>\n",
       "      <th>r3</th>\n",
       "      <th>r4</th>\n",
       "      <th>r5</th>\n",
       "      <th>l_ax</th>\n",
       "      <th>l_ay</th>\n",
       "      <th>l_az</th>\n",
       "      <th>l_gx</th>\n",
       "      <th>l_gy</th>\n",
       "      <th>l_gz</th>\n",
       "      <th>label</th>\n",
       "    </tr>\n",
       "  </thead>\n",
       "  <tbody>\n",
       "    <tr>\n",
       "      <th>0</th>\n",
       "      <td>3008</td>\n",
       "      <td>2923</td>\n",
       "      <td>1661</td>\n",
       "      <td>2841</td>\n",
       "      <td>0</td>\n",
       "      <td>0</td>\n",
       "      <td>0</td>\n",
       "      <td>0</td>\n",
       "      <td>0</td>\n",
       "      <td>0</td>\n",
       "      <td>8.377312</td>\n",
       "      <td>-3.088520</td>\n",
       "      <td>6.890512</td>\n",
       "      <td>-0.085801</td>\n",
       "      <td>-0.017853</td>\n",
       "      <td>-0.046897</td>\n",
       "      <td>hello</td>\n",
       "    </tr>\n",
       "    <tr>\n",
       "      <th>1</th>\n",
       "      <td>3015</td>\n",
       "      <td>2882</td>\n",
       "      <td>1664</td>\n",
       "      <td>2837</td>\n",
       "      <td>0</td>\n",
       "      <td>0</td>\n",
       "      <td>0</td>\n",
       "      <td>0</td>\n",
       "      <td>0</td>\n",
       "      <td>0</td>\n",
       "      <td>8.566454</td>\n",
       "      <td>-3.023877</td>\n",
       "      <td>6.562507</td>\n",
       "      <td>-0.087400</td>\n",
       "      <td>-0.005596</td>\n",
       "      <td>-0.051960</td>\n",
       "      <td>hello</td>\n",
       "    </tr>\n",
       "    <tr>\n",
       "      <th>2</th>\n",
       "      <td>3024</td>\n",
       "      <td>2906</td>\n",
       "      <td>1654</td>\n",
       "      <td>2835</td>\n",
       "      <td>0</td>\n",
       "      <td>0</td>\n",
       "      <td>0</td>\n",
       "      <td>0</td>\n",
       "      <td>0</td>\n",
       "      <td>0</td>\n",
       "      <td>8.463503</td>\n",
       "      <td>-3.009511</td>\n",
       "      <td>6.694188</td>\n",
       "      <td>-0.102588</td>\n",
       "      <td>0.006662</td>\n",
       "      <td>-0.049562</td>\n",
       "      <td>hello</td>\n",
       "    </tr>\n",
       "    <tr>\n",
       "      <th>3</th>\n",
       "      <td>3027</td>\n",
       "      <td>2903</td>\n",
       "      <td>1651</td>\n",
       "      <td>2848</td>\n",
       "      <td>0</td>\n",
       "      <td>0</td>\n",
       "      <td>0</td>\n",
       "      <td>0</td>\n",
       "      <td>0</td>\n",
       "      <td>0</td>\n",
       "      <td>8.760384</td>\n",
       "      <td>-2.664747</td>\n",
       "      <td>6.344635</td>\n",
       "      <td>-0.100723</td>\n",
       "      <td>-0.009593</td>\n",
       "      <td>-0.056224</td>\n",
       "      <td>hello</td>\n",
       "    </tr>\n",
       "    <tr>\n",
       "      <th>4</th>\n",
       "      <td>3023</td>\n",
       "      <td>2901</td>\n",
       "      <td>1663</td>\n",
       "      <td>2834</td>\n",
       "      <td>0</td>\n",
       "      <td>0</td>\n",
       "      <td>0</td>\n",
       "      <td>0</td>\n",
       "      <td>0</td>\n",
       "      <td>0</td>\n",
       "      <td>8.604761</td>\n",
       "      <td>-2.844312</td>\n",
       "      <td>6.550536</td>\n",
       "      <td>-0.100723</td>\n",
       "      <td>0.001599</td>\n",
       "      <td>-0.031176</td>\n",
       "      <td>hello</td>\n",
       "    </tr>\n",
       "    <tr>\n",
       "      <th>...</th>\n",
       "      <td>...</td>\n",
       "      <td>...</td>\n",
       "      <td>...</td>\n",
       "      <td>...</td>\n",
       "      <td>...</td>\n",
       "      <td>...</td>\n",
       "      <td>...</td>\n",
       "      <td>...</td>\n",
       "      <td>...</td>\n",
       "      <td>...</td>\n",
       "      <td>...</td>\n",
       "      <td>...</td>\n",
       "      <td>...</td>\n",
       "      <td>...</td>\n",
       "      <td>...</td>\n",
       "      <td>...</td>\n",
       "      <td>...</td>\n",
       "    </tr>\n",
       "    <tr>\n",
       "      <th>589</th>\n",
       "      <td>2960</td>\n",
       "      <td>2827</td>\n",
       "      <td>1664</td>\n",
       "      <td>2800</td>\n",
       "      <td>0</td>\n",
       "      <td>0</td>\n",
       "      <td>0</td>\n",
       "      <td>0</td>\n",
       "      <td>0</td>\n",
       "      <td>0</td>\n",
       "      <td>9.021352</td>\n",
       "      <td>0.624887</td>\n",
       "      <td>6.976704</td>\n",
       "      <td>-0.082337</td>\n",
       "      <td>-0.026380</td>\n",
       "      <td>-0.057556</td>\n",
       "      <td>welcome</td>\n",
       "    </tr>\n",
       "    <tr>\n",
       "      <th>590</th>\n",
       "      <td>2965</td>\n",
       "      <td>2820</td>\n",
       "      <td>1665</td>\n",
       "      <td>2803</td>\n",
       "      <td>0</td>\n",
       "      <td>0</td>\n",
       "      <td>0</td>\n",
       "      <td>0</td>\n",
       "      <td>0</td>\n",
       "      <td>0</td>\n",
       "      <td>9.040505</td>\n",
       "      <td>0.641646</td>\n",
       "      <td>6.864176</td>\n",
       "      <td>-0.085268</td>\n",
       "      <td>-0.008260</td>\n",
       "      <td>-0.072478</td>\n",
       "      <td>hello</td>\n",
       "    </tr>\n",
       "    <tr>\n",
       "      <th>591</th>\n",
       "      <td>2963</td>\n",
       "      <td>2811</td>\n",
       "      <td>1664</td>\n",
       "      <td>2801</td>\n",
       "      <td>0</td>\n",
       "      <td>0</td>\n",
       "      <td>0</td>\n",
       "      <td>0</td>\n",
       "      <td>0</td>\n",
       "      <td>0</td>\n",
       "      <td>9.105149</td>\n",
       "      <td>0.608127</td>\n",
       "      <td>6.852205</td>\n",
       "      <td>-0.053026</td>\n",
       "      <td>0.009326</td>\n",
       "      <td>-0.036505</td>\n",
       "      <td>sorry</td>\n",
       "    </tr>\n",
       "    <tr>\n",
       "      <th>592</th>\n",
       "      <td>2961</td>\n",
       "      <td>2819</td>\n",
       "      <td>1663</td>\n",
       "      <td>2800</td>\n",
       "      <td>0</td>\n",
       "      <td>0</td>\n",
       "      <td>0</td>\n",
       "      <td>0</td>\n",
       "      <td>0</td>\n",
       "      <td>0</td>\n",
       "      <td>9.016563</td>\n",
       "      <td>0.488417</td>\n",
       "      <td>7.031770</td>\n",
       "      <td>-0.108717</td>\n",
       "      <td>0.011458</td>\n",
       "      <td>0.003198</td>\n",
       "      <td>goodbye</td>\n",
       "    </tr>\n",
       "    <tr>\n",
       "      <th>593</th>\n",
       "      <td>2960</td>\n",
       "      <td>2793</td>\n",
       "      <td>1662</td>\n",
       "      <td>2800</td>\n",
       "      <td>0</td>\n",
       "      <td>0</td>\n",
       "      <td>0</td>\n",
       "      <td>0</td>\n",
       "      <td>0</td>\n",
       "      <td>0</td>\n",
       "      <td>9.018958</td>\n",
       "      <td>0.543484</td>\n",
       "      <td>6.964733</td>\n",
       "      <td>-0.110315</td>\n",
       "      <td>-0.035440</td>\n",
       "      <td>-0.151617</td>\n",
       "      <td>thank you</td>\n",
       "    </tr>\n",
       "  </tbody>\n",
       "</table>\n",
       "<p>594 rows × 17 columns</p>\n",
       "</div>"
      ],
      "text/plain": [
       "       l1    l2    l3    l4  l5  r1  r2  r3  r4  r5      l_ax      l_ay  \\\n",
       "0    3008  2923  1661  2841   0   0   0   0   0   0  8.377312 -3.088520   \n",
       "1    3015  2882  1664  2837   0   0   0   0   0   0  8.566454 -3.023877   \n",
       "2    3024  2906  1654  2835   0   0   0   0   0   0  8.463503 -3.009511   \n",
       "3    3027  2903  1651  2848   0   0   0   0   0   0  8.760384 -2.664747   \n",
       "4    3023  2901  1663  2834   0   0   0   0   0   0  8.604761 -2.844312   \n",
       "..    ...   ...   ...   ...  ..  ..  ..  ..  ..  ..       ...       ...   \n",
       "589  2960  2827  1664  2800   0   0   0   0   0   0  9.021352  0.624887   \n",
       "590  2965  2820  1665  2803   0   0   0   0   0   0  9.040505  0.641646   \n",
       "591  2963  2811  1664  2801   0   0   0   0   0   0  9.105149  0.608127   \n",
       "592  2961  2819  1663  2800   0   0   0   0   0   0  9.016563  0.488417   \n",
       "593  2960  2793  1662  2800   0   0   0   0   0   0  9.018958  0.543484   \n",
       "\n",
       "         l_az      l_gx      l_gy      l_gz      label  \n",
       "0    6.890512 -0.085801 -0.017853 -0.046897      hello  \n",
       "1    6.562507 -0.087400 -0.005596 -0.051960      hello  \n",
       "2    6.694188 -0.102588  0.006662 -0.049562      hello  \n",
       "3    6.344635 -0.100723 -0.009593 -0.056224      hello  \n",
       "4    6.550536 -0.100723  0.001599 -0.031176      hello  \n",
       "..        ...       ...       ...       ...        ...  \n",
       "589  6.976704 -0.082337 -0.026380 -0.057556    welcome  \n",
       "590  6.864176 -0.085268 -0.008260 -0.072478      hello  \n",
       "591  6.852205 -0.053026  0.009326 -0.036505      sorry  \n",
       "592  7.031770 -0.108717  0.011458  0.003198    goodbye  \n",
       "593  6.964733 -0.110315 -0.035440 -0.151617  thank you  \n",
       "\n",
       "[594 rows x 17 columns]"
      ]
     },
     "execution_count": 176,
     "metadata": {},
     "output_type": "execute_result"
    }
   ],
   "source": [
    "df_final"
   ]
  },
  {
   "cell_type": "code",
   "execution_count": 174,
   "id": "0ff375f7-e065-42dc-b0bf-8af59ba7f8fe",
   "metadata": {
    "collapsed": true,
    "jupyter": {
     "outputs_hidden": true,
     "source_hidden": true
    },
    "tags": []
   },
   "outputs": [
    {
     "name": "stdout",
     "output_type": "stream",
     "text": [
      "     l1    l2    l3    l4  l5  r1  r2  r3  r4  r5      l_ax      l_ay  \\\n",
      "0  3008  2923  1661  2841   0   0   0   0   0   0  8.377312 -3.088520   \n",
      "1  3015  2882  1664  2837   0   0   0   0   0   0  8.566454 -3.023877   \n",
      "2  3024  2906  1654  2835   0   0   0   0   0   0  8.463503 -3.009511   \n",
      "3  3027  2903  1651  2848   0   0   0   0   0   0  8.760384 -2.664747   \n",
      "4  3023  2901  1663  2834   0   0   0   0   0   0  8.604761 -2.844312   \n",
      "5  3023  2906  1658  2858   0   0   0   0   0   0  8.597578 -2.796427   \n",
      "6  3017  2898  1662  2830   0   0   0   0   0   0  8.681376 -2.626439   \n",
      "7  3017  2890  1662  2835   0   0   0   0   0   0  8.588001 -2.791639   \n",
      "8  3007  2891  1652  2836   0   0   0   0   0   0  8.662222 -2.762909   \n",
      "9  3006  2894  1666  2837   0   0   0   0   0   0  8.678981 -2.798822   \n",
      "\n",
      "       l_az      l_gx      l_gy      l_gz  label  \n",
      "0  6.890512 -0.085801 -0.017853 -0.046897  hello  \n",
      "1  6.562507 -0.087400 -0.005596 -0.051960  hello  \n",
      "2  6.694188 -0.102588  0.006662 -0.049562  hello  \n",
      "3  6.344635 -0.100723 -0.009593 -0.056224  hello  \n",
      "4  6.550536 -0.100723  0.001599 -0.031176  hello  \n",
      "5  6.670246 -0.081271 -0.040769 -0.030377  hello  \n",
      "6  6.505046 -0.091663 -0.009060 -0.062086  hello  \n",
      "7  6.799533 -0.094328 -0.019185 -0.048763  hello  \n",
      "8  6.665458 -0.107384 -0.031975 -0.056757  hello  \n",
      "9  6.811504 -0.098325 -0.000799 -0.045032  hello  \n"
     ]
    }
   ],
   "source": [
    "import pandas as pd\n",
    "import numpy as np\n",
    "\n",
    "# Assuming df is your existing DataFrame with a 'label' column\n",
    "# df = pd.read_csv(\"your_data.csv\")  # Load data if needed\n",
    "\n",
    "# Define new labels\n",
    "new_labels = [\"hello\", \"sorry\", \"goodbye\", \"thank you\", \"welcome\"]\n",
    "\n",
    "# Number of rows\n",
    "num_rows = len(df_final)\n",
    "\n",
    "# Ensure equal distribution while handling remainder cases\n",
    "label_repeats = np.repeat(new_labels, num_rows // len(new_labels))  # Repeat each label evenly\n",
    "remaining_labels = new_labels[:(num_rows % len(new_labels))]  # Handle any leftover rows\n",
    "\n",
    "# Combine them\n",
    "final_labels = list(label_repeats) + remaining_labels  # Ensure total length matches df\n",
    "\n",
    "# Assign new labels to DataFrame\n",
    "df_final['label'] = final_labels\n",
    "\n",
    "# Display first few rows to verify\n",
    "print(df_final.head(10))"
   ]
  },
  {
   "cell_type": "code",
   "execution_count": 81,
   "id": "63bb5a06-2592-4df1-956b-2656057f95d7",
   "metadata": {
    "tags": []
   },
   "outputs": [],
   "source": [
    "import pandas as pd\n",
    "import numpy as np\n",
    "from sklearn.ensemble import RandomForestClassifier\n",
    "from sklearn.model_selection import train_test_split\n",
    "from sklearn.metrics import accuracy_score, classification_report"
   ]
  },
  {
   "cell_type": "code",
   "execution_count": 83,
   "id": "2bd79e07-7efc-48d6-86ec-7d0eeab801ac",
   "metadata": {
    "tags": []
   },
   "outputs": [],
   "source": [
    "# Assume 'label' is the target column\n",
    "y = df_final['label']  # Replace 'label' with your actual target column name\n",
    "X = df_final.drop(columns=['label'])  # Drop target column to keep only features\n",
    "\n",
    "# Convert categorical columns to numerical (if any)\n",
    "X = pd.get_dummies(X)\n",
    "\n",
    "# Handle missing values (if present)\n",
    "X = X.fillna(X.mean())  # Fill missing values with mean (adjust as needed)\n"
   ]
  },
  {
   "cell_type": "code",
   "execution_count": 85,
   "id": "7e96f536-590e-4fe1-ba34-168afa553de9",
   "metadata": {
    "tags": []
   },
   "outputs": [],
   "source": [
    "X_train, X_test, y_train, y_test = train_test_split(X, y, test_size=0.2, random_state=42)\n"
   ]
  },
  {
   "cell_type": "code",
   "execution_count": 87,
   "id": "7559286e-fd79-44a9-aba4-80edbba303e6",
   "metadata": {
    "tags": []
   },
   "outputs": [
    {
     "data": {
      "text/html": [
       "<style>#sk-container-id-1 {color: black;background-color: white;}#sk-container-id-1 pre{padding: 0;}#sk-container-id-1 div.sk-toggleable {background-color: white;}#sk-container-id-1 label.sk-toggleable__label {cursor: pointer;display: block;width: 100%;margin-bottom: 0;padding: 0.3em;box-sizing: border-box;text-align: center;}#sk-container-id-1 label.sk-toggleable__label-arrow:before {content: \"▸\";float: left;margin-right: 0.25em;color: #696969;}#sk-container-id-1 label.sk-toggleable__label-arrow:hover:before {color: black;}#sk-container-id-1 div.sk-estimator:hover label.sk-toggleable__label-arrow:before {color: black;}#sk-container-id-1 div.sk-toggleable__content {max-height: 0;max-width: 0;overflow: hidden;text-align: left;background-color: #f0f8ff;}#sk-container-id-1 div.sk-toggleable__content pre {margin: 0.2em;color: black;border-radius: 0.25em;background-color: #f0f8ff;}#sk-container-id-1 input.sk-toggleable__control:checked~div.sk-toggleable__content {max-height: 200px;max-width: 100%;overflow: auto;}#sk-container-id-1 input.sk-toggleable__control:checked~label.sk-toggleable__label-arrow:before {content: \"▾\";}#sk-container-id-1 div.sk-estimator input.sk-toggleable__control:checked~label.sk-toggleable__label {background-color: #d4ebff;}#sk-container-id-1 div.sk-label input.sk-toggleable__control:checked~label.sk-toggleable__label {background-color: #d4ebff;}#sk-container-id-1 input.sk-hidden--visually {border: 0;clip: rect(1px 1px 1px 1px);clip: rect(1px, 1px, 1px, 1px);height: 1px;margin: -1px;overflow: hidden;padding: 0;position: absolute;width: 1px;}#sk-container-id-1 div.sk-estimator {font-family: monospace;background-color: #f0f8ff;border: 1px dotted black;border-radius: 0.25em;box-sizing: border-box;margin-bottom: 0.5em;}#sk-container-id-1 div.sk-estimator:hover {background-color: #d4ebff;}#sk-container-id-1 div.sk-parallel-item::after {content: \"\";width: 100%;border-bottom: 1px solid gray;flex-grow: 1;}#sk-container-id-1 div.sk-label:hover label.sk-toggleable__label {background-color: #d4ebff;}#sk-container-id-1 div.sk-serial::before {content: \"\";position: absolute;border-left: 1px solid gray;box-sizing: border-box;top: 0;bottom: 0;left: 50%;z-index: 0;}#sk-container-id-1 div.sk-serial {display: flex;flex-direction: column;align-items: center;background-color: white;padding-right: 0.2em;padding-left: 0.2em;position: relative;}#sk-container-id-1 div.sk-item {position: relative;z-index: 1;}#sk-container-id-1 div.sk-parallel {display: flex;align-items: stretch;justify-content: center;background-color: white;position: relative;}#sk-container-id-1 div.sk-item::before, #sk-container-id-1 div.sk-parallel-item::before {content: \"\";position: absolute;border-left: 1px solid gray;box-sizing: border-box;top: 0;bottom: 0;left: 50%;z-index: -1;}#sk-container-id-1 div.sk-parallel-item {display: flex;flex-direction: column;z-index: 1;position: relative;background-color: white;}#sk-container-id-1 div.sk-parallel-item:first-child::after {align-self: flex-end;width: 50%;}#sk-container-id-1 div.sk-parallel-item:last-child::after {align-self: flex-start;width: 50%;}#sk-container-id-1 div.sk-parallel-item:only-child::after {width: 0;}#sk-container-id-1 div.sk-dashed-wrapped {border: 1px dashed gray;margin: 0 0.4em 0.5em 0.4em;box-sizing: border-box;padding-bottom: 0.4em;background-color: white;}#sk-container-id-1 div.sk-label label {font-family: monospace;font-weight: bold;display: inline-block;line-height: 1.2em;}#sk-container-id-1 div.sk-label-container {text-align: center;}#sk-container-id-1 div.sk-container {/* jupyter's `normalize.less` sets `[hidden] { display: none; }` but bootstrap.min.css set `[hidden] { display: none !important; }` so we also need the `!important` here to be able to override the default hidden behavior on the sphinx rendered scikit-learn.org. See: https://github.com/scikit-learn/scikit-learn/issues/21755 */display: inline-block !important;position: relative;}#sk-container-id-1 div.sk-text-repr-fallback {display: none;}</style><div id=\"sk-container-id-1\" class=\"sk-top-container\"><div class=\"sk-text-repr-fallback\"><pre>RandomForestClassifier(random_state=42)</pre><b>In a Jupyter environment, please rerun this cell to show the HTML representation or trust the notebook. <br />On GitHub, the HTML representation is unable to render, please try loading this page with nbviewer.org.</b></div><div class=\"sk-container\" hidden><div class=\"sk-item\"><div class=\"sk-estimator sk-toggleable\"><input class=\"sk-toggleable__control sk-hidden--visually\" id=\"sk-estimator-id-1\" type=\"checkbox\" checked><label for=\"sk-estimator-id-1\" class=\"sk-toggleable__label sk-toggleable__label-arrow\">RandomForestClassifier</label><div class=\"sk-toggleable__content\"><pre>RandomForestClassifier(random_state=42)</pre></div></div></div></div></div>"
      ],
      "text/plain": [
       "RandomForestClassifier(random_state=42)"
      ]
     },
     "execution_count": 87,
     "metadata": {},
     "output_type": "execute_result"
    }
   ],
   "source": [
    "# Initialize the model\n",
    "rf_model = RandomForestClassifier(n_estimators=100, random_state=42)\n",
    "\n",
    "# Train the model\n",
    "rf_model.fit(X_train, y_train)"
   ]
  },
  {
   "cell_type": "code",
   "execution_count": 89,
   "id": "a9f96e5b-f955-4a35-8ab8-2fc9a495b746",
   "metadata": {
    "tags": []
   },
   "outputs": [],
   "source": [
    "y_pred = rf_model.predict(X_test)\n"
   ]
  },
  {
   "cell_type": "code",
   "execution_count": 95,
   "id": "5ac512dc-da25-4965-9efe-6d19cd4e8785",
   "metadata": {
    "collapsed": true,
    "jupyter": {
     "outputs_hidden": true,
     "source_hidden": true
    },
    "tags": []
   },
   "outputs": [
    {
     "name": "stdout",
     "output_type": "stream",
     "text": [
      "Accuracy: 0.9748\n",
      "              precision    recall  f1-score   support\n",
      "\n",
      "           a       1.00      1.00      1.00         5\n",
      "           b       1.00      1.00      1.00         3\n",
      "           c       0.67      1.00      0.80         2\n",
      "          ch       1.00      1.00      1.00         9\n",
      "           d       1.00      1.00      1.00         6\n",
      "           e       1.00      1.00      1.00         3\n",
      "           f       1.00      1.00      1.00         4\n",
      "           g       1.00      1.00      1.00         3\n",
      "           h       1.00      1.00      1.00         9\n",
      "           i       1.00      0.80      0.89         5\n",
      "    i love u       1.00      0.80      0.89         5\n",
      "           k       1.00      1.00      1.00         3\n",
      "           l       0.80      1.00      0.89         4\n",
      "           m       1.00      1.00      1.00         5\n",
      "           n       0.83      1.00      0.91         5\n",
      "           o       1.00      1.00      1.00         2\n",
      "           p       1.00      1.00      1.00         7\n",
      "           q       1.00      1.00      1.00         6\n",
      "           r       1.00      1.00      1.00         1\n",
      "           s       1.00      0.50      0.67         2\n",
      "           t       1.00      1.00      1.00         5\n",
      "           u       1.00      1.00      1.00         3\n",
      "           v       1.00      1.00      1.00         3\n",
      "           w       1.00      1.00      1.00         4\n",
      "           x       1.00      1.00      1.00         7\n",
      "           y       1.00      1.00      1.00         8\n",
      "\n",
      "    accuracy                           0.97       119\n",
      "   macro avg       0.97      0.97      0.96       119\n",
      "weighted avg       0.98      0.97      0.97       119\n",
      "\n"
     ]
    }
   ],
   "source": [
    "accuracy = accuracy_score(y_test, y_pred)\n",
    "print(f\"Accuracy: {accuracy:.4f}\")\n",
    "\n",
    "# Detailed classification report\n",
    "print(classification_report(y_test, y_pred))\n"
   ]
  },
  {
   "cell_type": "code",
   "execution_count": 160,
   "id": "2cee86d2-7b4a-4a06-982e-b0127f073094",
   "metadata": {
    "tags": []
   },
   "outputs": [
    {
     "name": "stdout",
     "output_type": "stream",
     "text": [
      "Accuracy: 0.9748\n"
     ]
    }
   ],
   "source": [
    "print(f\"Accuracy: {accuracy:.4f}\")"
   ]
  },
  {
   "cell_type": "code",
   "execution_count": 101,
   "id": "08ce3c34-bb4c-495f-84c8-62399808a2eb",
   "metadata": {
    "tags": []
   },
   "outputs": [
    {
     "data": {
      "text/plain": [
       "array([0.11841094, 0.13527393, 0.11309313, 0.13263142, 0.        ,\n",
       "       0.        , 0.        , 0.        , 0.        , 0.        ,\n",
       "       0.15212632, 0.1550831 , 0.12961671, 0.02354936, 0.01560881,\n",
       "       0.02460628])"
      ]
     },
     "execution_count": 101,
     "metadata": {},
     "output_type": "execute_result"
    }
   ],
   "source": [
    "rf_model.feature_importances_"
   ]
  },
  {
   "cell_type": "code",
   "execution_count": 103,
   "id": "ed92adce-9abd-4e22-8638-5a8a54059712",
   "metadata": {
    "tags": []
   },
   "outputs": [
    {
     "data": {
      "text/plain": [
       "array(['l1', 'l2', 'l3', 'l4', 'l5', 'r1', 'r2', 'r3', 'r4', 'r5', 'l_ax',\n",
       "       'l_ay', 'l_az', 'l_gx', 'l_gy', 'l_gz'], dtype=object)"
      ]
     },
     "execution_count": 103,
     "metadata": {},
     "output_type": "execute_result"
    }
   ],
   "source": [
    "rf_model.feature_names_in_"
   ]
  },
  {
   "cell_type": "code",
   "execution_count": 137,
   "id": "b0de8eea-2199-4a2d-aa1d-95ca9c1cbd27",
   "metadata": {
    "collapsed": true,
    "jupyter": {
     "outputs_hidden": true,
     "source_hidden": true
    },
    "tags": []
   },
   "outputs": [
    {
     "data": {
      "image/png": "[encoded data removed]",
      "text/plain": [
       "<Figure size 1200x600 with 1 Axes>"
      ]
     },
     "metadata": {},
     "output_type": "display_data"
    }
   ],
   "source": [
    "# Extract F1-scores\n",
    "f1_scores = report_df[\"f1-score\"]\n",
    "\n",
    "# Plot bar chart\n",
    "plt.figure(figsize=(12, 6))\n",
    "sns.barplot(x=f1_scores.index, y=f1_scores.values, palette=\"viridis\")\n",
    "plt.xticks(rotation=90)  # Rotate labels for readability\n",
    "plt.xlabel(\"Classes\")\n",
    "plt.ylabel(\"F1-Score\")\n",
    "plt.title(\"Class-wise F1-Scores\")\n",
    "plt.show()"
   ]
  },
  {
   "cell_type": "code",
   "execution_count": 107,
   "id": "16e17bf2-074e-4298-8e6b-8d863fcce626",
   "metadata": {
    "collapsed": true,
    "jupyter": {
     "outputs_hidden": true
    },
    "tags": []
   },
   "outputs": [
    {
     "data": {
      "text/plain": [
       "<Axes: >"
      ]
     },
     "execution_count": 107,
     "metadata": {},
     "output_type": "execute_result"
    },
    {
     "data": {
      "image/png": "[encoded data removed]",
      "text/plain": [
       "<Figure size 640x480 with 1 Axes>"
      ]
     },
     "metadata": {},
     "output_type": "display_data"
    }
   ],
   "source": [
    "sns.barplot(x=rf_model.feature_names_in_, y=rf_model.feature_importances_)"
   ]
  },
  {
   "cell_type": "code",
   "execution_count": 113,
   "id": "31d9661d-39fe-4847-ae99-b37b3e44ee5e",
   "metadata": {
    "tags": []
   },
   "outputs": [
    {
     "data": {
      "image/png": "[encoded data removed]",
      "text/plain": [
       "<Figure size 1000x600 with 1 Axes>"
      ]
     },
     "metadata": {},
     "output_type": "display_data"
    }
   ],
   "source": [
    "import matplotlib.pyplot as plt\n",
    "import seaborn as sns\n",
    "import pandas as pd\n",
    "\n",
    "# Create a DataFrame with feature names and importances\n",
    "feature_importance_df = pd.DataFrame({\n",
    "    'Feature': rf_model.feature_names_in_,\n",
    "    'Importance': rf_model.feature_importances_\n",
    "})\n",
    "\n",
    "# Filter out features with zero importance and sort in descending order\n",
    "feature_importance_df = feature_importance_df[feature_importance_df['Importance'] > 0]\n",
    "feature_importance_df = feature_importance_df.sort_values(by='Importance', ascending=False)\n",
    "\n",
    "# Plot the barplot\n",
    "plt.figure(figsize=(10, 6))+\n",
    "sns.barplot(x=feature_importance_df['Feature'], y=feature_importance_df['Importance'])\n",
    "\n",
    "# Add labels and title\n",
    "plt.xlabel(\"Features\")\n",
    "plt.ylabel(\"Importance\")\n",
    "plt.title(\"Feature Importances from Random Forest Model\")\n",
    "\n",
    "# Rotate x-axis labels for better readability if needed\n",
    "plt.xticks(rotation=45, ha='right')\n",
    "\n",
    "# Show the plot\n",
    "plt.show()"
   ]
  },
  {
   "cell_type": "code",
   "execution_count": 93,
   "id": "ce166cc3-aec6-448b-afb1-3de4eef41941",
   "metadata": {
    "tags": []
   },
   "outputs": [
    {
     "name": "stdout",
     "output_type": "stream",
     "text": [
      "Model saved successfully!\n"
     ]
    }
   ],
   "source": [
    "import pickle\n",
    "\n",
    "# Save the trained model\n",
    "with open(\"random_forest_model.pkl\", \"wb\") as file:\n",
    "    pickle.dump(rf_model, file)\n",
    "\n",
    "print(\"Model saved successfully!\")"
   ]
  },
  {
   "cell_type": "code",
   "execution_count": 117,
   "id": "05b9f4c0-aebe-46fb-84ce-46c60cf4ac97",
   "metadata": {
    "tags": []
   },
   "outputs": [
    {
     "name": "stdout",
     "output_type": "stream",
     "text": [
      "RandomForestClassifier(random_state=42)\n"
     ]
    }
   ],
   "source": [
    "import pickle\n",
    "\n",
    "# Open the file in read-binary ('rb') mode\n",
    "with open(\"random_forest_model.pkl\", \"rb\") as file:\n",
    "    m1 = pickle.load(file)\n",
    "\n",
    "# Now `m1` contains the loaded Random Forest model\n",
    "print(m1)  # Optional: Print model details to verify"
   ]
  },
  {
   "cell_type": "code",
   "execution_count": 125,
   "id": "59647951-2b98-4175-9ccc-b3b1d3c7346c",
   "metadata": {
    "tags": []
   },
   "outputs": [
    {
     "data": {
      "text/plain": [
       "(1, 2)"
      ]
     },
     "execution_count": 125,
     "metadata": {},
     "output_type": "execute_result"
    }
   ],
   "source": [
    "sample = np.array([[,,]])\n",
    "sample.shape"
   ]
  },
  {
   "cell_type": "code",
   "execution_count": null,
   "id": "ed882ab5-4526-42f2-9fa0-69e3e7218f92",
   "metadata": {},
   "outputs": [],
   "source": [
    "m1.predict(np.array([]))"
   ]
  },
  {
   "cell_type": "code",
   "execution_count": 162,
   "id": "929c8286-3a21-47f2-9f43-b81d6a51f412",
   "metadata": {
    "tags": []
   },
   "outputs": [],
   "source": [
    "df_final.to_csv(\"v1_final.csv\", index=False)"
   ]
  },
  {
   "cell_type": "code",
   "execution_count": 139,
   "id": "90695f22-050c-4668-834e-62b5d35567b3",
   "metadata": {
    "tags": []
   },
   "outputs": [
    {
     "name": "stdout",
     "output_type": "stream",
     "text": [
      "{'temperature': 25.3, 'humidity': 60.0}\n"
     ]
    },
    {
     "data": {
      "text/plain": [
       "array([[25.3, 60. ]])"
      ]
     },
     "execution_count": 139,
     "metadata": {},
     "output_type": "execute_result"
    }
   ],
   "source": [
    "# Example WebSocket received message\n",
    "received_data = '{\"temperature\":25.3,\"humidity\":60.0}'\n",
    "\n",
    "# Parse JSON\n",
    "parsed_data = json.loads(received_data)\n",
    "print(parsed_data)\n",
    "\n",
    "# Convert to NumPy array (if model expects structured numerical input)\n",
    "input_features = np.array([[parsed_data[\"temperature\"], parsed_data[\"humidity\"]]])\n",
    "input_features"
   ]
  },
  {
   "cell_type": "code",
   "execution_count": null,
   "id": "4dcac9e4-8f6a-4a48-b389-4daaaa93fec5",
   "metadata": {
    "tags": []
   },
   "outputs": [],
   "source": [
    "!pip install tensorflow"
   ]
  },
  {
   "cell_type": "code",
   "execution_count": 147,
   "id": "0e945c70-f307-48a3-9483-7429744c6235",
   "metadata": {
    "tags": []
   },
   "outputs": [],
   "source": [
    "import tensorflow as tf"
   ]
  },
  {
   "cell_type": "code",
   "execution_count": 153,
   "id": "8da57ef6-bdc8-4c99-ad2e-ab80b3b73b8a",
   "metadata": {
    "tags": []
   },
   "outputs": [],
   "source": [
    "import math\n",
    "import numpy as np\n",
    "import tensorflow as tf\n",
    "from tensorflow.keras import layers\n",
    "\n",
    "def get_model():\n",
    "    SAMPLES = 1000\n",
    "    np.random.seed(1337)\n",
    "    x_values = np.random.uniform(low=0, high=2*math.pi, size=SAMPLES)\n",
    "    # shuffle and add noise\n",
    "    np.random.shuffle(x_values)\n",
    "    y_values = np.sin(x_values)\n",
    "    y_values += 0.1 * np.random.randn(*y_values.shape)\n",
    "\n",
    "    # split into train, validation, test\n",
    "    TRAIN_SPLIT =  int(0.6 * SAMPLES)\n",
    "    TEST_SPLIT = int(0.2 * SAMPLES + TRAIN_SPLIT)\n",
    "    x_train, x_test, x_validate = np.split(x_values, [TRAIN_SPLIT, TEST_SPLIT])\n",
    "    y_train, y_test, y_validate = np.split(y_values, [TRAIN_SPLIT, TEST_SPLIT])\n",
    "\n",
    "    # create a NN with 2 layers of 16 neurons\n",
    "    model = tf.keras.Sequential()\n",
    "    model.add(layers.Dense(16, activation='relu', input_shape=(1,)))\n",
    "    model.add(layers.Dense(16, activation='relu'))\n",
    "    model.add(layers.Dense(1))\n",
    "    model.compile(optimizer='rmsprop', loss='mse', metrics=['mae'])\n",
    "    model.fit(x_train, y_train, epochs=10, batch_size=16,\n",
    "                        validation_data=(x_validate, y_validate))\n",
    "    return model"
   ]
  },
  {
   "cell_type": "code",
   "execution_count": 155,
   "id": "7bcb73e6-6200-44a3-99a8-33b1224301d3",
   "metadata": {
    "tags": []
   },
   "outputs": [
    {
     "name": "stderr",
     "output_type": "stream",
     "text": [
      "C:\\Users\\Danish\\anaconda3\\Lib\\site-packages\\keras\\src\\layers\\core\\dense.py:87: UserWarning: Do not pass an `input_shape`/`input_dim` argument to a layer. When using Sequential models, prefer using an `Input(shape)` object as the first layer in the model instead.\n",
      "  super().__init__(activity_regularizer=activity_regularizer, **kwargs)\n"
     ]
    },
    {
     "name": "stdout",
     "output_type": "stream",
     "text": [
      "Epoch 1/10\n",
      "\u001b[1m38/38\u001b[0m \u001b[32m━━━━━━━━━━━━━━━━━━━━\u001b[0m\u001b[37m\u001b[0m \u001b[1m3s\u001b[0m 25ms/step - loss: 0.4681 - mae: 0.5772 - val_loss: 0.3941 - val_mae: 0.5364\n",
      "Epoch 2/10\n",
      "\u001b[1m38/38\u001b[0m \u001b[32m━━━━━━━━━━━━━━━━━━━━\u001b[0m\u001b[37m\u001b[0m \u001b[1m1s\u001b[0m 13ms/step - loss: 0.3298 - mae: 0.4974 - val_loss: 0.3173 - val_mae: 0.4910\n",
      "Epoch 3/10\n",
      "\u001b[1m38/38\u001b[0m \u001b[32m━━━━━━━━━━━━━━━━━━━━\u001b[0m\u001b[37m\u001b[0m \u001b[1m0s\u001b[0m 10ms/step - loss: 0.2631 - mae: 0.4473 - val_loss: 0.3056 - val_mae: 0.4900\n",
      "Epoch 4/10\n",
      "\u001b[1m38/38\u001b[0m \u001b[32m━━━━━━━━━━━━━━━━━━━━\u001b[0m\u001b[37m\u001b[0m \u001b[1m1s\u001b[0m 8ms/step - loss: 0.2170 - mae: 0.4025 - val_loss: 0.2209 - val_mae: 0.4072\n",
      "Epoch 5/10\n",
      "\u001b[1m38/38\u001b[0m \u001b[32m━━━━━━━━━━━━━━━━━━━━\u001b[0m\u001b[37m\u001b[0m \u001b[1m1s\u001b[0m 9ms/step - loss: 0.1906 - mae: 0.3818 - val_loss: 0.1936 - val_mae: 0.3854\n",
      "Epoch 6/10\n",
      "\u001b[1m38/38\u001b[0m \u001b[32m━━━━━━━━━━━━━━━━━━━━\u001b[0m\u001b[37m\u001b[0m \u001b[1m1s\u001b[0m 9ms/step - loss: 0.1804 - mae: 0.3696 - val_loss: 0.1787 - val_mae: 0.3676\n",
      "Epoch 7/10\n",
      "\u001b[1m38/38\u001b[0m \u001b[32m━━━━━━━━━━━━━━━━━━━━\u001b[0m\u001b[37m\u001b[0m \u001b[1m0s\u001b[0m 8ms/step - loss: 0.1609 - mae: 0.3443 - val_loss: 0.1641 - val_mae: 0.3461\n",
      "Epoch 8/10\n",
      "\u001b[1m38/38\u001b[0m \u001b[32m━━━━━━━━━━━━━━━━━━━━\u001b[0m\u001b[37m\u001b[0m \u001b[1m1s\u001b[0m 11ms/step - loss: 0.1556 - mae: 0.3355 - val_loss: 0.1540 - val_mae: 0.3327\n",
      "Epoch 9/10\n",
      "\u001b[1m38/38\u001b[0m \u001b[32m━━━━━━━━━━━━━━━━━━━━\u001b[0m\u001b[37m\u001b[0m \u001b[1m1s\u001b[0m 12ms/step - loss: 0.1584 - mae: 0.3268 - val_loss: 0.1507 - val_mae: 0.3263\n",
      "Epoch 10/10\n",
      "\u001b[1m38/38\u001b[0m \u001b[32m━━━━━━━━━━━━━━━━━━━━\u001b[0m\u001b[37m\u001b[0m \u001b[1m0s\u001b[0m 9ms/step - loss: 0.1364 - mae: 0.2967 - val_loss: 0.1457 - val_mae: 0.3190\n"
     ]
    },
    {
     "name": "stderr",
     "output_type": "stream",
     "text": [
      "WARNING:absl:Optimization option OPTIMIZE_FOR_SIZE is deprecated, please use optimizations=[Optimize.DEFAULT] instead.\n"
     ]
    },
    {
     "name": "stdout",
     "output_type": "stream",
     "text": [
      "INFO:tensorflow:Assets written to: C:\\Users\\Danish\\AppData\\Local\\Temp\\tmp2fjmxy7a\\assets\n"
     ]
    },
    {
     "name": "stderr",
     "output_type": "stream",
     "text": [
      "INFO:tensorflow:Assets written to: C:\\Users\\Danish\\AppData\\Local\\Temp\\tmp2fjmxy7a\\assets\n"
     ]
    },
    {
     "name": "stdout",
     "output_type": "stream",
     "text": [
      "Saved artifact at 'C:\\Users\\Danish\\AppData\\Local\\Temp\\tmp2fjmxy7a'. The following endpoints are available:\n",
      "\n",
      "* Endpoint 'serve'\n",
      "  args_0 (POSITIONAL_ONLY): TensorSpec(shape=(None, 1), dtype=tf.float32, name='keras_tensor_7')\n",
      "Output Type:\n",
      "  TensorSpec(shape=(None, 1), dtype=tf.float32, name=None)\n",
      "Captures:\n",
      "  2179446439376: TensorSpec(shape=(), dtype=tf.resource, name=None)\n",
      "  2179446439184: TensorSpec(shape=(), dtype=tf.resource, name=None)\n",
      "  2179449505168: TensorSpec(shape=(), dtype=tf.resource, name=None)\n",
      "  2179449506512: TensorSpec(shape=(), dtype=tf.resource, name=None)\n",
      "  2179449506128: TensorSpec(shape=(), dtype=tf.resource, name=None)\n",
      "  2179449507280: TensorSpec(shape=(), dtype=tf.resource, name=None)\n"
     ]
    },
    {
     "name": "stderr",
     "output_type": "stream",
     "text": [
      "WARNING:absl:Optimization option OPTIMIZE_FOR_SIZE is deprecated, please use optimizations=[Optimize.DEFAULT] instead.\n",
      "WARNING:absl:Optimization option OPTIMIZE_FOR_SIZE is deprecated, please use optimizations=[Optimize.DEFAULT] instead.\n"
     ]
    },
    {
     "data": {
      "text/plain": [
       "3164"
      ]
     },
     "execution_count": 155,
     "metadata": {},
     "output_type": "execute_result"
    }
   ],
   "source": [
    "model = get_model()\n",
    "converter = tf.lite.TFLiteConverter.from_keras_model(model)\n",
    "converter.optimizations = [tf.lite.Optimize.OPTIMIZE_FOR_SIZE]\n",
    "tflite_model = converter.convert()\n",
    "\n",
    "# Save the model to disk\n",
    "open(\"sine_model_quantized.tflite\", \"wb\").write(tflite_model)"
   ]
  },
  {
   "cell_type": "code",
   "execution_count": 158,
   "id": "3be24092-87d6-48c8-9b3f-f6f975ee4938",
   "metadata": {
    "tags": []
   },
   "outputs": [
    {
     "name": "stderr",
     "output_type": "stream",
     "text": [
      "C:\\Users\\Danish\\anaconda3\\Lib\\site-packages\\keras\\src\\layers\\core\\dense.py:87: UserWarning: Do not pass an `input_shape`/`input_dim` argument to a layer. When using Sequential models, prefer using an `Input(shape)` object as the first layer in the model instead.\n",
      "  super().__init__(activity_regularizer=activity_regularizer, **kwargs)\n"
     ]
    },
    {
     "name": "stdout",
     "output_type": "stream",
     "text": [
      "Epoch 1/10\n",
      "\u001b[1m38/38\u001b[0m \u001b[32m━━━━━━━━━━━━━━━━━━━━\u001b[0m\u001b[37m\u001b[0m \u001b[1m4s\u001b[0m 23ms/step - loss: 1.1692 - mae: 0.9152 - val_loss: 0.6322 - val_mae: 0.7309\n",
      "Epoch 2/10\n",
      "\u001b[1m38/38\u001b[0m \u001b[32m━━━━━━━━━━━━━━━━━━━━\u001b[0m\u001b[37m\u001b[0m \u001b[1m1s\u001b[0m 14ms/step - loss: 0.4783 - mae: 0.6129 - val_loss: 0.4902 - val_mae: 0.6093\n",
      "Epoch 3/10\n",
      "\u001b[1m38/38\u001b[0m \u001b[32m━━━━━━━━━━━━━━━━━━━━\u001b[0m\u001b[37m\u001b[0m \u001b[1m1s\u001b[0m 14ms/step - loss: 0.4013 - mae: 0.5463 - val_loss: 0.4321 - val_mae: 0.5765\n",
      "Epoch 4/10\n",
      "\u001b[1m38/38\u001b[0m \u001b[32m━━━━━━━━━━━━━━━━━━━━\u001b[0m\u001b[37m\u001b[0m \u001b[1m1s\u001b[0m 8ms/step - loss: 0.3238 - mae: 0.4879 - val_loss: 0.3690 - val_mae: 0.5326\n",
      "Epoch 5/10\n",
      "\u001b[1m38/38\u001b[0m \u001b[32m━━━━━━━━━━━━━━━━━━━━\u001b[0m\u001b[37m\u001b[0m \u001b[1m0s\u001b[0m 11ms/step - loss: 0.3064 - mae: 0.4796 - val_loss: 0.2800 - val_mae: 0.4602\n",
      "Epoch 6/10\n",
      "\u001b[1m38/38\u001b[0m \u001b[32m━━━━━━━━━━━━━━━━━━━━\u001b[0m\u001b[37m\u001b[0m \u001b[1m1s\u001b[0m 12ms/step - loss: 0.2320 - mae: 0.4254 - val_loss: 0.2376 - val_mae: 0.4257\n",
      "Epoch 7/10\n",
      "\u001b[1m38/38\u001b[0m \u001b[32m━━━━━━━━━━━━━━━━━━━━\u001b[0m\u001b[37m\u001b[0m \u001b[1m0s\u001b[0m 9ms/step - loss: 0.1962 - mae: 0.3865 - val_loss: 0.2020 - val_mae: 0.3911\n",
      "Epoch 8/10\n",
      "\u001b[1m38/38\u001b[0m \u001b[32m━━━━━━━━━━━━━━━━━━━━\u001b[0m\u001b[37m\u001b[0m \u001b[1m0s\u001b[0m 9ms/step - loss: 0.1822 - mae: 0.3749 - val_loss: 0.1900 - val_mae: 0.3874\n",
      "Epoch 9/10\n",
      "\u001b[1m38/38\u001b[0m \u001b[32m━━━━━━━━━━━━━━━━━━━━\u001b[0m\u001b[37m\u001b[0m \u001b[1m1s\u001b[0m 11ms/step - loss: 0.1683 - mae: 0.3592 - val_loss: 0.1781 - val_mae: 0.3724\n",
      "Epoch 10/10\n",
      "\u001b[1m38/38\u001b[0m \u001b[32m━━━━━━━━━━━━━━━━━━━━\u001b[0m\u001b[37m\u001b[0m \u001b[1m1s\u001b[0m 9ms/step - loss: 0.1611 - mae: 0.3517 - val_loss: 0.1657 - val_mae: 0.3492\n"
     ]
    },
    {
     "name": "stderr",
     "output_type": "stream",
     "text": [
      "WARNING:absl:Optimization option OPTIMIZE_FOR_SIZE is deprecated, please use optimizations=[Optimize.DEFAULT] instead.\n"
     ]
    },
    {
     "name": "stdout",
     "output_type": "stream",
     "text": [
      "INFO:tensorflow:Assets written to: C:\\Users\\Danish\\AppData\\Local\\Temp\\tmp5qukvhg3\\assets\n"
     ]
    },
    {
     "name": "stderr",
     "output_type": "stream",
     "text": [
      "INFO:tensorflow:Assets written to: C:\\Users\\Danish\\AppData\\Local\\Temp\\tmp5qukvhg3\\assets\n"
     ]
    },
    {
     "name": "stdout",
     "output_type": "stream",
     "text": [
      "Saved artifact at 'C:\\Users\\Danish\\AppData\\Local\\Temp\\tmp5qukvhg3'. The following endpoints are available:\n",
      "\n",
      "* Endpoint 'serve'\n",
      "  args_0 (POSITIONAL_ONLY): TensorSpec(shape=(None, 1), dtype=tf.float32, name='keras_tensor_14')\n",
      "Output Type:\n",
      "  TensorSpec(shape=(None, 1), dtype=tf.float32, name=None)\n",
      "Captures:\n",
      "  2179449508048: TensorSpec(shape=(), dtype=tf.resource, name=None)\n",
      "  2179449509008: TensorSpec(shape=(), dtype=tf.resource, name=None)\n",
      "  2179449517840: TensorSpec(shape=(), dtype=tf.resource, name=None)\n",
      "  2179449519760: TensorSpec(shape=(), dtype=tf.resource, name=None)\n",
      "  2179449519952: TensorSpec(shape=(), dtype=tf.resource, name=None)\n",
      "  2179449512464: TensorSpec(shape=(), dtype=tf.resource, name=None)\n"
     ]
    },
    {
     "name": "stderr",
     "output_type": "stream",
     "text": [
      "WARNING:absl:Optimization option OPTIMIZE_FOR_SIZE is deprecated, please use optimizations=[Optimize.DEFAULT] instead.\n",
      "WARNING:absl:Optimization option OPTIMIZE_FOR_SIZE is deprecated, please use optimizations=[Optimize.DEFAULT] instead.\n"
     ]
    },
    {
     "name": "stdout",
     "output_type": "stream",
     "text": [
      "\n",
      "#ifdef __has_attribute\n",
      "#define HAVE_ATTRIBUTE(x) __has_attribute(x)\n",
      "#else\n",
      "#define HAVE_ATTRIBUTE(x) 0\n",
      "#endif\n",
      "#if HAVE_ATTRIBUTE(aligned) || (defined(__GNUC__) && !defined(__clang__))\n",
      "#define DATA_ALIGN_ATTRIBUTE __attribute__((aligned(4)))\n",
      "#else\n",
      "#define DATA_ALIGN_ATTRIBUTE\n",
      "#endif\n",
      "\n",
      "const unsigned char model_data[] DATA_ALIGN_ATTRIBUTE = {\n",
      "\t0x1c, 0x00, 0x00, 0x00, 0x54, 0x46, 0x4c, 0x33, 0x14, 0x00, 0x20, 0x00, \n",
      "\t0x1c, 0x00, 0x18, 0x00, 0x14, 0x00, 0x10, 0x00, 0x0c, 0x00, 0x00, 0x00, \n",
      "\t0x08, 0x00, 0x04, 0x00, 0x14, 0x00, 0x00, 0x00, 0x1c, 0x00, 0x00, 0x00, \n",
      "\t0x98, 0x00, 0x00, 0x00, 0xf0, 0x00, 0x00, 0x00, 0x14, 0x07, 0x00, 0x00, \n",
      "\t0x24, 0x07, 0x00, 0x00, 0x08, 0x0c, 0x00, 0x00, 0x03, 0x00, 0x00, 0x00, \n",
      "\t0x01, 0x00, 0x00, 0x00, 0x10, 0x00, 0x00, 0x00, 0x00, 0x00, 0x0a, 0x00, \n",
      "\t0x10, 0x00, 0x0c, 0x00, 0x08, 0x00, 0x04, 0x00, 0x0a, 0x00, 0x00, 0x00, \n",
      "\t0x0c, 0x00, 0x00, 0x00, 0x1c, 0x00, 0x00, 0x00, 0x3c, 0x00, 0x00, 0x00, \n",
      "\t0x0f, 0x00, 0x00, 0x00, 0x73, 0x65, 0x72, 0x76, 0x69, 0x6e, 0x67, 0x5f, \n",
      "\t0x64, 0x65, 0x66, 0x61, 0x75, 0x6c, 0x74, 0x00, 0x01, 0x00, 0x00, 0x00, \n",
      "\t0x04, 0x00, 0x00, 0x00, 0x90, 0xff, 0xff, 0xff, 0x09, 0x00, 0x00, 0x00, \n",
      "\t0x04, 0x00, 0x00, 0x00, 0x08, 0x00, 0x00, 0x00, 0x6f, 0x75, 0x74, 0x70, \n",
      "\t0x75, 0x74, 0x5f, 0x30, 0x00, 0x00, 0x00, 0x00, 0x01, 0x00, 0x00, 0x00, \n",
      "\t0x04, 0x00, 0x00, 0x00, 0xba, 0xf9, 0xff, 0xff, 0x04, 0x00, 0x00, 0x00, \n",
      "\t0x0f, 0x00, 0x00, 0x00, 0x6b, 0x65, 0x72, 0x61, 0x73, 0x5f, 0x74, 0x65, \n",
      "\t0x6e, 0x73, 0x6f, 0x72, 0x5f, 0x31, 0x34, 0x00, 0x02, 0x00, 0x00, 0x00, \n",
      "\t0x34, 0x00, 0x00, 0x00, 0x04, 0x00, 0x00, 0x00, 0xdc, 0xff, 0xff, 0xff, \n",
      "\t0x0c, 0x00, 0x00, 0x00, 0x04, 0x00, 0x00, 0x00, 0x13, 0x00, 0x00, 0x00, \n",
      "\t0x43, 0x4f, 0x4e, 0x56, 0x45, 0x52, 0x53, 0x49, 0x4f, 0x4e, 0x5f, 0x4d, \n",
      "\t0x45, 0x54, 0x41, 0x44, 0x41, 0x54, 0x41, 0x00, 0x08, 0x00, 0x0c, 0x00, \n",
      "\t0x08, 0x00, 0x04, 0x00, 0x08, 0x00, 0x00, 0x00, 0x0b, 0x00, 0x00, 0x00, \n",
      "\t0x04, 0x00, 0x00, 0x00, 0x13, 0x00, 0x00, 0x00, 0x6d, 0x69, 0x6e, 0x5f, \n",
      "\t0x72, 0x75, 0x6e, 0x74, 0x69, 0x6d, 0x65, 0x5f, 0x76, 0x65, 0x72, 0x73, \n",
      "\t0x69, 0x6f, 0x6e, 0x00, 0x0d, 0x00, 0x00, 0x00, 0x20, 0x06, 0x00, 0x00, \n",
      "\t0x18, 0x06, 0x00, 0x00, 0xc8, 0x05, 0x00, 0x00, 0xb0, 0x01, 0x00, 0x00, \n",
      "\t0x9c, 0x01, 0x00, 0x00, 0x4c, 0x01, 0x00, 0x00, 0xfc, 0x00, 0x00, 0x00, \n",
      "\t0xac, 0x00, 0x00, 0x00, 0xa4, 0x00, 0x00, 0x00, 0x9c, 0x00, 0x00, 0x00, \n",
      "\t0x94, 0x00, 0x00, 0x00, 0x74, 0x00, 0x00, 0x00, 0x04, 0x00, 0x00, 0x00, \n",
      "\t0x6a, 0xfa, 0xff, 0xff, 0x04, 0x00, 0x00, 0x00, 0x60, 0x00, 0x00, 0x00, \n",
      "\t0x0c, 0x00, 0x00, 0x00, 0x08, 0x00, 0x0e, 0x00, 0x08, 0x00, 0x04, 0x00, \n",
      "\t0x08, 0x00, 0x00, 0x00, 0x10, 0x00, 0x00, 0x00, 0x28, 0x00, 0x00, 0x00, \n",
      "\t0x00, 0x00, 0x06, 0x00, 0x08, 0x00, 0x04, 0x00, 0x06, 0x00, 0x00, 0x00, \n",
      "\t0x04, 0x00, 0x00, 0x00, 0x01, 0x00, 0x00, 0x00, 0xea, 0x03, 0x00, 0x00, \n",
      "\t0x0c, 0x00, 0x18, 0x00, 0x14, 0x00, 0x10, 0x00, 0x0c, 0x00, 0x04, 0x00, \n",
      "\t0x0c, 0x00, 0x00, 0x00, 0xec, 0xb7, 0xa8, 0x9a, 0xd0, 0xf4, 0x0a, 0xe3, \n",
      "\t0x02, 0x00, 0x00, 0x00, 0x02, 0x00, 0x00, 0x00, 0x04, 0x00, 0x00, 0x00, \n",
      "\t0x06, 0x00, 0x00, 0x00, 0x32, 0x2e, 0x31, 0x38, 0x2e, 0x30, 0x00, 0x00, \n",
      "\t0xd6, 0xfa, 0xff, 0xff, 0x04, 0x00, 0x00, 0x00, 0x10, 0x00, 0x00, 0x00, \n",
      "\t0x31, 0x2e, 0x35, 0x2e, 0x30, 0x00, 0x00, 0x00, 0x00, 0x00, 0x00, 0x00, \n",
      "\t0x00, 0x00, 0x00, 0x00, 0xd8, 0xf5, 0xff, 0xff, 0xdc, 0xf5, 0xff, 0xff, \n",
      "\t0xe0, 0xf5, 0xff, 0xff, 0xfe, 0xfa, 0xff, 0xff, 0x04, 0x00, 0x00, 0x00, \n",
      "\t0x40, 0x00, 0x00, 0x00, 0x90, 0xe1, 0x55, 0xbd, 0xd2, 0x9f, 0x21, 0xbe, \n",
      "\t0x0e, 0xb7, 0xf4, 0x3e, 0x91, 0x52, 0x87, 0xbe, 0xd1, 0xcc, 0xa7, 0x3e, \n",
      "\t0xc2, 0xaa, 0x9a, 0xbe, 0x00, 0xa8, 0xa4, 0xba, 0x85, 0xdd, 0xc8, 0x3e, \n",
      "\t0x1b, 0x17, 0x26, 0x3e, 0x5a, 0x95, 0xb4, 0xbe, 0x10, 0x1b, 0x45, 0xbe, \n",
      "\t0x92, 0x46, 0x82, 0xbe, 0xb7, 0x19, 0x7d, 0x3e, 0xe7, 0x27, 0x05, 0xbf, \n",
      "\t0x00, 0xf0, 0xaf, 0xb9, 0xb9, 0x21, 0xc5, 0x3e, 0x4a, 0xfb, 0xff, 0xff, \n",
      "\t0x04, 0x00, 0x00, 0x00, 0x40, 0x00, 0x00, 0x00, 0x00, 0x00, 0x00, 0x00, \n",
      "\t0x00, 0x00, 0x00, 0x00, 0xa8, 0x67, 0x87, 0xbe, 0x00, 0x00, 0x00, 0x00, \n",
      "\t0xc1, 0xf2, 0x23, 0xbe, 0x00, 0x00, 0x00, 0x00, 0x00, 0x00, 0x00, 0x00, \n",
      "\t0x36, 0xc5, 0x8c, 0xbd, 0xd9, 0x4d, 0x2a, 0xbe, 0x00, 0x00, 0x00, 0x00, \n",
      "\t0x00, 0x00, 0x00, 0x00, 0x00, 0x00, 0x00, 0x00, 0x4e, 0x58, 0x23, 0xbe, \n",
      "\t0x00, 0x00, 0x00, 0x00, 0x00, 0x00, 0x00, 0x00, 0x0f, 0xe1, 0x36, 0x3e, \n",
      "\t0x96, 0xfb, 0xff, 0xff, 0x04, 0x00, 0x00, 0x00, 0x40, 0x00, 0x00, 0x00, \n",
      "\t0x02, 0x5e, 0x09, 0x3e, 0x00, 0x00, 0x00, 0x00, 0x8c, 0x7c, 0x27, 0xbe, \n",
      "\t0xc5, 0x89, 0x16, 0xbe, 0x05, 0x3e, 0x4f, 0xbb, 0x87, 0x3c, 0x4c, 0xbb, \n",
      "\t0xdb, 0xc3, 0x40, 0x3e, 0x92, 0x7b, 0x4d, 0x3e, 0x00, 0x00, 0x00, 0x00, \n",
      "\t0xe3, 0x06, 0x08, 0xbd, 0x0b, 0xcf, 0x07, 0x3e, 0x3e, 0xc9, 0x07, 0x3e, \n",
      "\t0x73, 0x5c, 0x61, 0x3e, 0x57, 0x81, 0x36, 0xbe, 0x1b, 0xfc, 0x00, 0x3e, \n",
      "\t0xff, 0xbf, 0x2d, 0xbe, 0xe2, 0xfb, 0xff, 0xff, 0x04, 0x00, 0x00, 0x00, \n",
      "\t0x04, 0x00, 0x00, 0x00, 0x15, 0xaf, 0x08, 0x3e, 0xf2, 0xfb, 0xff, 0xff, \n",
      "\t0x04, 0x00, 0x00, 0x00, 0x00, 0x04, 0x00, 0x00, 0x1d, 0xa8, 0xbc, 0x3e, \n",
      "\t0xa1, 0xcb, 0xaa, 0x3e, 0x75, 0x13, 0x8a, 0xbe, 0x3e, 0x5e, 0x28, 0xbe, \n",
      "\t0x53, 0xdf, 0xd0, 0xbe, 0x00, 0x2d, 0x72, 0xbe, 0x48, 0xd4, 0x06, 0xbe, \n",
      "\t0x81, 0x90, 0xa2, 0x3e, 0x36, 0x16, 0xe3, 0x3d, 0x84, 0xc8, 0x8c, 0x3d, \n",
      "\t0xd0, 0x62, 0x92, 0xbd, 0x18, 0xec, 0x8d, 0xbe, 0x1b, 0xf4, 0xa6, 0x3e, \n",
      "\t0x67, 0x5f, 0x87, 0x3e, 0x36, 0x74, 0xcd, 0xbe, 0xfe, 0x48, 0x60, 0x3e, \n",
      "\t0x2a, 0x38, 0x7a, 0xbe, 0x59, 0xd6, 0xbc, 0x3e, 0x7c, 0x26, 0x93, 0x3d, \n",
      "\t0x6e, 0x7f, 0xb6, 0xbe, 0x99, 0x86, 0x4f, 0xbe, 0x02, 0x06, 0x16, 0x3e, \n",
      "\t0x80, 0xbe, 0xb0, 0xbe, 0xf8, 0xa1, 0xda, 0xbd, 0x09, 0x97, 0xad, 0x3e, \n",
      "\t0xca, 0xf1, 0x35, 0x3e, 0x00, 0xfb, 0xb0, 0x3c, 0x23, 0x10, 0xc9, 0x3e, \n",
      "\t0xe2, 0xe3, 0x28, 0x3e, 0x40, 0x96, 0xb2, 0xbe, 0x30, 0x8b, 0xdf, 0xbc, \n",
      "\t0xf4, 0x99, 0x21, 0xbe, 0xf4, 0x14, 0x22, 0xbe, 0x58, 0xd2, 0xa5, 0xbe, \n",
      "\t0x35, 0x97, 0xfb, 0xbd, 0x48, 0xbc, 0x0c, 0x3d, 0xc5, 0x95, 0xb8, 0x3e, \n",
      "\t0x6e, 0x45, 0x00, 0x3e, 0x01, 0xe8, 0x94, 0x3e, 0x4d, 0x49, 0x5b, 0x3e, \n",
      "\t0x2a, 0xca, 0xe3, 0x3e, 0x46, 0x72, 0x01, 0xbe, 0xc7, 0xba, 0xca, 0xbe, \n",
      "\t0x93, 0x16, 0xd2, 0x3e, 0x54, 0xce, 0xc5, 0x3e, 0xf0, 0x0d, 0x8c, 0xbd, \n",
      "\t0x02, 0x9d, 0x65, 0x3e, 0x43, 0xfe, 0x04, 0xbe, 0x01, 0x34, 0x6c, 0xbe, \n",
      "\t0xcb, 0x57, 0xa1, 0x3e, 0x40, 0xe6, 0x6a, 0x3e, 0x1a, 0x9d, 0x86, 0xbe, \n",
      "\t0x34, 0xf7, 0xb2, 0x3e, 0x19, 0x42, 0x8b, 0x3e, 0xa0, 0x8c, 0xe1, 0xbd, \n",
      "\t0x78, 0x04, 0x25, 0x3e, 0xa0, 0xa2, 0xba, 0xbd, 0x9f, 0x7f, 0xb6, 0x3e, \n",
      "\t0x28, 0x3b, 0xf8, 0xbd, 0x4a, 0xdc, 0x98, 0xbe, 0xc0, 0x15, 0xaf, 0x3e, \n",
      "\t0x18, 0x96, 0x6f, 0x3d, 0x12, 0x70, 0xca, 0xbe, 0xbe, 0x2d, 0x99, 0xbe, \n",
      "\t0xb5, 0x7d, 0x96, 0xbe, 0x14, 0x98, 0x98, 0xbd, 0x99, 0x06, 0x69, 0x3e, \n",
      "\t0xcd, 0x32, 0xbe, 0x3e, 0xbe, 0xe8, 0x54, 0x3e, 0x64, 0x0c, 0xf8, 0x3d, \n",
      "\t0xfb, 0x31, 0xdb, 0x3e, 0x33, 0x1b, 0x77, 0xbe, 0x3c, 0xdd, 0x2d, 0x3e, \n",
      "\t0xc4, 0x8d, 0xdc, 0xbd, 0xd7, 0x07, 0x6f, 0xbe, 0x62, 0x8a, 0xc4, 0xbe, \n",
      "\t0xd3, 0x0e, 0xc6, 0x3d, 0x10, 0x2f, 0x60, 0x3d, 0x42, 0xff, 0x0d, 0x3e, \n",
      "\t0x1a, 0x60, 0xa1, 0xbe, 0xee, 0x3e, 0x49, 0x3e, 0xd8, 0xee, 0x6f, 0x3d, \n",
      "\t0x6a, 0xbf, 0xe9, 0xbd, 0x69, 0xb1, 0x8b, 0x3e, 0x38, 0xfb, 0xd2, 0x3e, \n",
      "\t0xea, 0xbb, 0x87, 0xbe, 0x86, 0x23, 0x6c, 0xbe, 0x78, 0x0b, 0x34, 0x3e, \n",
      "\t0x2b, 0x4c, 0x24, 0xbe, 0x70, 0x9e, 0x8d, 0xbc, 0xec, 0x02, 0x9c, 0x3d, \n",
      "\t0xe2, 0x1e, 0x26, 0x3e, 0x77, 0xf7, 0x97, 0xbe, 0xeb, 0xec, 0xb9, 0x3e, \n",
      "\t0xfd, 0x01, 0xa8, 0xbe, 0x52, 0x06, 0x60, 0xbe, 0xb6, 0x9c, 0x32, 0x3e, \n",
      "\t0xb4, 0xc0, 0xdc, 0xbd, 0x3a, 0x17, 0x0f, 0xbe, 0x7f, 0x2c, 0xa4, 0x3e, \n",
      "\t0xfd, 0x09, 0xf0, 0xbc, 0xe9, 0x7c, 0x96, 0x3e, 0xa7, 0x6e, 0xb6, 0x3e, \n",
      "\t0x74, 0x64, 0x9d, 0xbe, 0xf5, 0xb9, 0x2e, 0x3d, 0xe4, 0xf1, 0x64, 0xbe, \n",
      "\t0xd2, 0xe4, 0x6e, 0x3e, 0x22, 0x45, 0xd4, 0xbe, 0x8c, 0x70, 0x94, 0xbe, \n",
      "\t0x5b, 0x56, 0x78, 0xbe, 0xb2, 0xed, 0xd9, 0xbe, 0x92, 0x09, 0xe4, 0x3e, \n",
      "\t0x94, 0x4e, 0x93, 0x3d, 0xf5, 0x31, 0xc2, 0xbe, 0x20, 0x7c, 0x63, 0xbe, \n",
      "\t0x20, 0xc8, 0x17, 0xbe, 0xcc, 0xe9, 0x65, 0x3e, 0xd0, 0xf6, 0x61, 0x3d, \n",
      "\t0x59, 0x89, 0x8f, 0x3e, 0x92, 0x4f, 0xe3, 0xbe, 0xa2, 0xee, 0x93, 0xbc, \n",
      "\t0xc0, 0x52, 0xd2, 0xbc, 0xaa, 0x3c, 0x11, 0xbe, 0x8e, 0xc5, 0x42, 0x3e, \n",
      "\t0xc7, 0x12, 0x55, 0x3d, 0x99, 0x7a, 0x9b, 0x3e, 0x80, 0xa6, 0x53, 0xbe, \n",
      "\t0xe2, 0xb4, 0xa1, 0x3e, 0xd6, 0x0d, 0x71, 0x3e, 0x4b, 0x70, 0x83, 0x3e, \n",
      "\t0x3b, 0x59, 0x6a, 0xbe, 0xe8, 0x77, 0x14, 0xbe, 0x7e, 0x1e, 0xb9, 0xbe, \n",
      "\t0xd8, 0xec, 0x01, 0xbe, 0xb0, 0x23, 0xa0, 0xbc, 0x20, 0x8f, 0x27, 0xbc, \n",
      "\t0xdb, 0x5c, 0x8c, 0x3e, 0x03, 0x15, 0xc1, 0x3e, 0x25, 0x77, 0xcf, 0xbe, \n",
      "\t0xd4, 0xc6, 0xc0, 0x3d, 0xca, 0x50, 0x0c, 0x3e, 0x0a, 0x3c, 0x04, 0xbe, \n",
      "\t0x2a, 0xe2, 0x0a, 0x3e, 0x10, 0x66, 0xbe, 0xbe, 0x82, 0x78, 0x1d, 0xbe, \n",
      "\t0xc0, 0x73, 0x85, 0xbb, 0x25, 0x27, 0xda, 0x3d, 0x0e, 0x4d, 0x8f, 0xbe, \n",
      "\t0x8b, 0x45, 0x2d, 0x3e, 0xae, 0xa8, 0x3b, 0x3e, 0xea, 0xc8, 0x0f, 0x3e, \n",
      "\t0xe6, 0x35, 0x9c, 0xbd, 0x0a, 0x70, 0xd9, 0x3d, 0xd6, 0x8a, 0x0f, 0x3e, \n",
      "\t0x80, 0x61, 0xb9, 0xbe, 0x63, 0x57, 0xa8, 0xbe, 0xb8, 0x97, 0x71, 0xbd, \n",
      "\t0x52, 0xb1, 0xc8, 0xbe, 0xee, 0x1d, 0xc7, 0xbe, 0x84, 0xc7, 0x2b, 0xbe, \n",
      "\t0x20, 0x34, 0x47, 0xbd, 0xfd, 0x85, 0x78, 0xbe, 0x7f, 0xba, 0x8d, 0x3c, \n",
      "\t0x75, 0xaf, 0xac, 0xbe, 0x87, 0x05, 0x19, 0x3e, 0x87, 0x04, 0x9b, 0x3e, \n",
      "\t0xd9, 0x5c, 0xba, 0x3e, 0x8c, 0x9e, 0xb9, 0x3d, 0x1a, 0x11, 0x67, 0x3e, \n",
      "\t0xa9, 0xf5, 0xbe, 0x3e, 0xec, 0xa6, 0xad, 0xbd, 0xa3, 0x85, 0x96, 0x3e, \n",
      "\t0xa5, 0xd8, 0x39, 0x3e, 0x00, 0x8c, 0x19, 0x3c, 0x52, 0xca, 0x61, 0x3e, \n",
      "\t0x36, 0x76, 0x61, 0x3e, 0xa0, 0x15, 0x1f, 0xbe, 0x1a, 0x93, 0x11, 0xbe, \n",
      "\t0xd0, 0xc2, 0xcf, 0x3d, 0x40, 0xa6, 0x31, 0x3d, 0x3b, 0x2b, 0x12, 0xbe, \n",
      "\t0xe4, 0xc4, 0xef, 0x3d, 0x10, 0xe0, 0xac, 0xbd, 0x28, 0x79, 0xb6, 0x3e, \n",
      "\t0x60, 0x05, 0x49, 0xbe, 0xf1, 0x7a, 0xd8, 0xbe, 0x64, 0x01, 0x92, 0x3d, \n",
      "\t0x04, 0x80, 0x12, 0xbe, 0x2d, 0x29, 0x8a, 0x3e, 0x8a, 0x89, 0xcb, 0xbe, \n",
      "\t0x96, 0x9c, 0x8c, 0xbe, 0x57, 0x96, 0x10, 0xbe, 0x6c, 0x74, 0xd2, 0x3d, \n",
      "\t0xb3, 0x20, 0x7a, 0xbe, 0x21, 0x93, 0x83, 0xbe, 0x63, 0xc4, 0x52, 0xbe, \n",
      "\t0x3a, 0xad, 0xa5, 0xbd, 0x86, 0x15, 0x28, 0xbe, 0x8f, 0xa5, 0xb5, 0xbe, \n",
      "\t0x41, 0x79, 0x93, 0xbc, 0x48, 0x83, 0x62, 0xbc, 0x74, 0x87, 0x8a, 0xbe, \n",
      "\t0x6c, 0x8f, 0x42, 0xbe, 0x2e, 0xd4, 0x4a, 0x3e, 0x5e, 0xae, 0x8d, 0xbe, \n",
      "\t0x30, 0x47, 0xe9, 0x3c, 0xe0, 0x69, 0x8b, 0xbd, 0x38, 0x65, 0xa6, 0x3e, \n",
      "\t0xfd, 0x4d, 0x95, 0x3e, 0x45, 0x6a, 0xc6, 0x3e, 0x1c, 0x82, 0x38, 0x3e, \n",
      "\t0x54, 0x66, 0x33, 0xbe, 0xca, 0x97, 0xde, 0x3e, 0x80, 0xc6, 0x1f, 0x3d, \n",
      "\t0x64, 0x2c, 0xe2, 0x3d, 0xcb, 0xea, 0x97, 0xbe, 0xd1, 0x27, 0x8b, 0x3e, \n",
      "\t0x28, 0x41, 0x1c, 0x3d, 0x42, 0x27, 0x56, 0x3e, 0x74, 0xe6, 0xc1, 0x3d, \n",
      "\t0x56, 0x15, 0x09, 0x3e, 0x3c, 0xda, 0xe7, 0xbd, 0xd5, 0x01, 0x92, 0x3e, \n",
      "\t0xca, 0x63, 0xc3, 0x3e, 0xa0, 0xf0, 0xbe, 0xbe, 0x12, 0x1d, 0x30, 0x3e, \n",
      "\t0xc6, 0x8c, 0x3d, 0x3e, 0x00, 0x93, 0x49, 0x3d, 0x9c, 0xd3, 0x11, 0xba, \n",
      "\t0x4b, 0xc9, 0x47, 0xbe, 0xa6, 0x39, 0x71, 0x3e, 0x11, 0x94, 0x24, 0x3e, \n",
      "\t0xb8, 0x7e, 0x25, 0xbe, 0xd2, 0xb0, 0xda, 0xbe, 0xb0, 0x61, 0x24, 0xbe, \n",
      "\t0xf2, 0x71, 0x98, 0xbe, 0xc5, 0xde, 0xf2, 0x3c, 0x62, 0x55, 0x6e, 0x3e, \n",
      "\t0x06, 0xb9, 0xc6, 0xbe, 0xc4, 0xb5, 0xb5, 0xbe, 0x62, 0x24, 0x36, 0x3e, \n",
      "\t0xb8, 0x23, 0x56, 0xbd, 0xb1, 0xe7, 0x25, 0xbe, 0x08, 0xf9, 0x86, 0xbe, \n",
      "\t0x23, 0xb8, 0x9b, 0x3e, 0xd0, 0x8b, 0xfb, 0xbd, 0x91, 0x4e, 0x82, 0x3e, \n",
      "\t0x75, 0xcd, 0xfe, 0x3e, 0xa5, 0xbf, 0x90, 0x3e, 0xab, 0xfc, 0xa2, 0x3e, \n",
      "\t0xd5, 0x48, 0xa2, 0x3e, 0x6e, 0x22, 0x18, 0x3e, 0xea, 0x42, 0xd9, 0x3e, \n",
      "\t0x31, 0x73, 0x93, 0xbe, 0x3a, 0x55, 0x67, 0x3e, 0x83, 0x43, 0x5a, 0xbe, \n",
      "\t0x00, 0x00, 0x06, 0x00, 0x08, 0x00, 0x04, 0x00, 0x06, 0x00, 0x00, 0x00, \n",
      "\t0x04, 0x00, 0x00, 0x00, 0x40, 0x00, 0x00, 0x00, 0x03, 0x2c, 0x0d, 0x3e, \n",
      "\t0xd1, 0x12, 0x8b, 0xbe, 0x81, 0x89, 0x49, 0xbe, 0x68, 0x18, 0x46, 0xbe, \n",
      "\t0xbc, 0x34, 0x0d, 0x3f, 0x94, 0x0c, 0x10, 0xbf, 0xbb, 0xb1, 0x38, 0x3f, \n",
      "\t0xe9, 0x6d, 0x13, 0x3f, 0xa0, 0x7e, 0xe0, 0xbe, 0x1e, 0x3a, 0xe3, 0x3d, \n",
      "\t0x00, 0x93, 0x26, 0x3e, 0x81, 0x28, 0xde, 0x3e, 0x1d, 0x82, 0xa2, 0x3e, \n",
      "\t0x8f, 0xf1, 0x15, 0xbf, 0x8a, 0x68, 0x8a, 0x3d, 0xea, 0x58, 0x75, 0xbe, \n",
      "\t0x38, 0xfb, 0xff, 0xff, 0x3c, 0xfb, 0xff, 0xff, 0x0f, 0x00, 0x00, 0x00, \n",
      "\t0x4d, 0x4c, 0x49, 0x52, 0x20, 0x43, 0x6f, 0x6e, 0x76, 0x65, 0x72, 0x74, \n",
      "\t0x65, 0x64, 0x2e, 0x00, 0x01, 0x00, 0x00, 0x00, 0x14, 0x00, 0x00, 0x00, \n",
      "\t0x00, 0x00, 0x0e, 0x00, 0x18, 0x00, 0x14, 0x00, 0x10, 0x00, 0x0c, 0x00, \n",
      "\t0x08, 0x00, 0x04, 0x00, 0x0e, 0x00, 0x00, 0x00, 0x14, 0x00, 0x00, 0x00, \n",
      "\t0x1c, 0x00, 0x00, 0x00, 0xd8, 0x00, 0x00, 0x00, 0xdc, 0x00, 0x00, 0x00, \n",
      "\t0xe0, 0x00, 0x00, 0x00, 0x04, 0x00, 0x00, 0x00, 0x6d, 0x61, 0x69, 0x6e, \n",
      "\t0x00, 0x00, 0x00, 0x00, 0x03, 0x00, 0x00, 0x00, 0x80, 0x00, 0x00, 0x00, \n",
      "\t0x38, 0x00, 0x00, 0x00, 0x04, 0x00, 0x00, 0x00, 0x9a, 0xff, 0xff, 0xff, \n",
      "\t0x10, 0x00, 0x00, 0x00, 0x00, 0x00, 0x00, 0x08, 0x0c, 0x00, 0x00, 0x00, \n",
      "\t0x10, 0x00, 0x00, 0x00, 0xb4, 0xfb, 0xff, 0xff, 0x01, 0x00, 0x00, 0x00, \n",
      "\t0x09, 0x00, 0x00, 0x00, 0x03, 0x00, 0x00, 0x00, 0x08, 0x00, 0x00, 0x00, \n",
      "\t0x01, 0x00, 0x00, 0x00, 0x03, 0x00, 0x00, 0x00, 0xca, 0xff, 0xff, 0xff, \n",
      "\t0x10, 0x00, 0x00, 0x00, 0x00, 0x00, 0x00, 0x08, 0x10, 0x00, 0x00, 0x00, \n",
      "\t0x14, 0x00, 0x00, 0x00, 0xba, 0xff, 0xff, 0xff, 0x00, 0x00, 0x00, 0x01, \n",
      "\t0x01, 0x00, 0x00, 0x00, 0x08, 0x00, 0x00, 0x00, 0x03, 0x00, 0x00, 0x00, \n",
      "\t0x07, 0x00, 0x00, 0x00, 0x02, 0x00, 0x00, 0x00, 0x04, 0x00, 0x00, 0x00, \n",
      "\t0x00, 0x00, 0x0e, 0x00, 0x16, 0x00, 0x00, 0x00, 0x10, 0x00, 0x0c, 0x00, \n",
      "\t0x0b, 0x00, 0x04, 0x00, 0x0e, 0x00, 0x00, 0x00, 0x18, 0x00, 0x00, 0x00, \n",
      "\t0x00, 0x00, 0x00, 0x08, 0x18, 0x00, 0x00, 0x00, 0x1c, 0x00, 0x00, 0x00, \n",
      "\t0x00, 0x00, 0x06, 0x00, 0x08, 0x00, 0x07, 0x00, 0x06, 0x00, 0x00, 0x00, \n",
      "\t0x00, 0x00, 0x00, 0x01, 0x01, 0x00, 0x00, 0x00, 0x07, 0x00, 0x00, 0x00, \n",
      "\t0x03, 0x00, 0x00, 0x00, 0x00, 0x00, 0x00, 0x00, 0x06, 0x00, 0x00, 0x00, \n",
      "\t0x05, 0x00, 0x00, 0x00, 0x01, 0x00, 0x00, 0x00, 0x09, 0x00, 0x00, 0x00, \n",
      "\t0x01, 0x00, 0x00, 0x00, 0x00, 0x00, 0x00, 0x00, 0x0a, 0x00, 0x00, 0x00, \n",
      "\t0x74, 0x03, 0x00, 0x00, 0x1c, 0x03, 0x00, 0x00, 0xc4, 0x02, 0x00, 0x00, \n",
      "\t0x88, 0x02, 0x00, 0x00, 0x4c, 0x02, 0x00, 0x00, 0xf0, 0x01, 0x00, 0x00, \n",
      "\t0xa0, 0x01, 0x00, 0x00, 0x00, 0x01, 0x00, 0x00, 0x60, 0x00, 0x00, 0x00, \n",
      "\t0x04, 0x00, 0x00, 0x00, 0xca, 0xfc, 0xff, 0xff, 0x00, 0x00, 0x00, 0x01, \n",
      "\t0x14, 0x00, 0x00, 0x00, 0x1c, 0x00, 0x00, 0x00, 0x1c, 0x00, 0x00, 0x00, \n",
      "\t0x0a, 0x00, 0x00, 0x00, 0x34, 0x00, 0x00, 0x00, 0x02, 0x00, 0x00, 0x00, \n",
      "\t0xff, 0xff, 0xff, 0xff, 0x01, 0x00, 0x00, 0x00, 0xb4, 0xfc, 0xff, 0xff, \n",
      "\t0x1b, 0x00, 0x00, 0x00, 0x53, 0x74, 0x61, 0x74, 0x65, 0x66, 0x75, 0x6c, \n",
      "\t0x50, 0x61, 0x72, 0x74, 0x69, 0x74, 0x69, 0x6f, 0x6e, 0x65, 0x64, 0x43, \n",
      "\t0x61, 0x6c, 0x6c, 0x5f, 0x31, 0x3a, 0x30, 0x00, 0x02, 0x00, 0x00, 0x00, \n",
      "\t0x01, 0x00, 0x00, 0x00, 0x01, 0x00, 0x00, 0x00, 0x22, 0xfd, 0xff, 0xff, \n",
      "\t0x00, 0x00, 0x00, 0x01, 0x14, 0x00, 0x00, 0x00, 0x1c, 0x00, 0x00, 0x00, \n",
      "\t0x1c, 0x00, 0x00, 0x00, 0x09, 0x00, 0x00, 0x00, 0x78, 0x00, 0x00, 0x00, \n",
      "\t0x02, 0x00, 0x00, 0x00, 0xff, 0xff, 0xff, 0xff, 0x10, 0x00, 0x00, 0x00, \n",
      "\t0x0c, 0xfd, 0xff, 0xff, 0x5e, 0x00, 0x00, 0x00, 0x73, 0x65, 0x71, 0x75, \n",
      "\t0x65, 0x6e, 0x74, 0x69, 0x61, 0x6c, 0x5f, 0x32, 0x5f, 0x31, 0x2f, 0x64, \n",
      "\t0x65, 0x6e, 0x73, 0x65, 0x5f, 0x37, 0x5f, 0x31, 0x2f, 0x4d, 0x61, 0x74, \n",
      "\t0x4d, 0x75, 0x6c, 0x3b, 0x73, 0x65, 0x71, 0x75, 0x65, 0x6e, 0x74, 0x69, \n",
      "\t0x61, 0x6c, 0x5f, 0x32, 0x5f, 0x31, 0x2f, 0x64, 0x65, 0x6e, 0x73, 0x65, \n",
      "\t0x5f, 0x37, 0x5f, 0x31, 0x2f, 0x52, 0x65, 0x6c, 0x75, 0x3b, 0x73, 0x65, \n",
      "\t0x71, 0x75, 0x65, 0x6e, 0x74, 0x69, 0x61, 0x6c, 0x5f, 0x32, 0x5f, 0x31, \n",
      "\t0x2f, 0x64, 0x65, 0x6e, 0x73, 0x65, 0x5f, 0x37, 0x5f, 0x31, 0x2f, 0x42, \n",
      "\t0x69, 0x61, 0x73, 0x41, 0x64, 0x64, 0x00, 0x00, 0x02, 0x00, 0x00, 0x00, \n",
      "\t0x01, 0x00, 0x00, 0x00, 0x10, 0x00, 0x00, 0x00, 0xbe, 0xfd, 0xff, 0xff, \n",
      "\t0x00, 0x00, 0x00, 0x01, 0x14, 0x00, 0x00, 0x00, 0x1c, 0x00, 0x00, 0x00, \n",
      "\t0x1c, 0x00, 0x00, 0x00, 0x08, 0x00, 0x00, 0x00, 0x78, 0x00, 0x00, 0x00, \n",
      "\t0x02, 0x00, 0x00, 0x00, 0xff, 0xff, 0xff, 0xff, 0x10, 0x00, 0x00, 0x00, \n",
      "\t0xa8, 0xfd, 0xff, 0xff, 0x5e, 0x00, 0x00, 0x00, 0x73, 0x65, 0x71, 0x75, \n",
      "\t0x65, 0x6e, 0x74, 0x69, 0x61, 0x6c, 0x5f, 0x32, 0x5f, 0x31, 0x2f, 0x64, \n",
      "\t0x65, 0x6e, 0x73, 0x65, 0x5f, 0x36, 0x5f, 0x31, 0x2f, 0x4d, 0x61, 0x74, \n",
      "\t0x4d, 0x75, 0x6c, 0x3b, 0x73, 0x65, 0x71, 0x75, 0x65, 0x6e, 0x74, 0x69, \n",
      "\t0x61, 0x6c, 0x5f, 0x32, 0x5f, 0x31, 0x2f, 0x64, 0x65, 0x6e, 0x73, 0x65, \n",
      "\t0x5f, 0x36, 0x5f, 0x31, 0x2f, 0x52, 0x65, 0x6c, 0x75, 0x3b, 0x73, 0x65, \n",
      "\t0x71, 0x75, 0x65, 0x6e, 0x74, 0x69, 0x61, 0x6c, 0x5f, 0x32, 0x5f, 0x31, \n",
      "\t0x2f, 0x64, 0x65, 0x6e, 0x73, 0x65, 0x5f, 0x36, 0x5f, 0x31, 0x2f, 0x42, \n",
      "\t0x69, 0x61, 0x73, 0x41, 0x64, 0x64, 0x00, 0x00, 0x02, 0x00, 0x00, 0x00, \n",
      "\t0x01, 0x00, 0x00, 0x00, 0x10, 0x00, 0x00, 0x00, 0xae, 0xfe, 0xff, 0xff, \n",
      "\t0x00, 0x00, 0x00, 0x01, 0x10, 0x00, 0x00, 0x00, 0x10, 0x00, 0x00, 0x00, \n",
      "\t0x07, 0x00, 0x00, 0x00, 0x2c, 0x00, 0x00, 0x00, 0x34, 0xfe, 0xff, 0xff, \n",
      "\t0x1f, 0x00, 0x00, 0x00, 0x73, 0x65, 0x71, 0x75, 0x65, 0x6e, 0x74, 0x69, \n",
      "\t0x61, 0x6c, 0x5f, 0x32, 0x5f, 0x31, 0x2f, 0x64, 0x65, 0x6e, 0x73, 0x65, \n",
      "\t0x5f, 0x36, 0x5f, 0x31, 0x2f, 0x4d, 0x61, 0x74, 0x4d, 0x75, 0x6c, 0x00, \n",
      "\t0x02, 0x00, 0x00, 0x00, 0x10, 0x00, 0x00, 0x00, 0x01, 0x00, 0x00, 0x00, \n",
      "\t0xfa, 0xfe, 0xff, 0xff, 0x00, 0x00, 0x00, 0x01, 0x10, 0x00, 0x00, 0x00, \n",
      "\t0x10, 0x00, 0x00, 0x00, 0x06, 0x00, 0x00, 0x00, 0x3c, 0x00, 0x00, 0x00, \n",
      "\t0x80, 0xfe, 0xff, 0xff, 0x2f, 0x00, 0x00, 0x00, 0x73, 0x65, 0x71, 0x75, \n",
      "\t0x65, 0x6e, 0x74, 0x69, 0x61, 0x6c, 0x5f, 0x32, 0x5f, 0x31, 0x2f, 0x64, \n",
      "\t0x65, 0x6e, 0x73, 0x65, 0x5f, 0x36, 0x5f, 0x31, 0x2f, 0x42, 0x69, 0x61, \n",
      "\t0x73, 0x41, 0x64, 0x64, 0x2f, 0x52, 0x65, 0x61, 0x64, 0x56, 0x61, 0x72, \n",
      "\t0x69, 0x61, 0x62, 0x6c, 0x65, 0x4f, 0x70, 0x00, 0x01, 0x00, 0x00, 0x00, \n",
      "\t0x10, 0x00, 0x00, 0x00, 0x52, 0xff, 0xff, 0xff, 0x00, 0x00, 0x00, 0x01, \n",
      "\t0x10, 0x00, 0x00, 0x00, 0x10, 0x00, 0x00, 0x00, 0x05, 0x00, 0x00, 0x00, \n",
      "\t0x1c, 0x00, 0x00, 0x00, 0xd8, 0xfe, 0xff, 0xff, 0x0f, 0x00, 0x00, 0x00, \n",
      "\t0x61, 0x72, 0x69, 0x74, 0x68, 0x2e, 0x63, 0x6f, 0x6e, 0x73, 0x74, 0x61, \n",
      "\t0x6e, 0x74, 0x33, 0x00, 0x01, 0x00, 0x00, 0x00, 0x10, 0x00, 0x00, 0x00, \n",
      "\t0x8a, 0xff, 0xff, 0xff, 0x00, 0x00, 0x00, 0x01, 0x10, 0x00, 0x00, 0x00, \n",
      "\t0x10, 0x00, 0x00, 0x00, 0x04, 0x00, 0x00, 0x00, 0x1c, 0x00, 0x00, 0x00, \n",
      "\t0x10, 0xff, 0xff, 0xff, 0x0f, 0x00, 0x00, 0x00, 0x61, 0x72, 0x69, 0x74, \n",
      "\t0x68, 0x2e, 0x63, 0x6f, 0x6e, 0x73, 0x74, 0x61, 0x6e, 0x74, 0x32, 0x00, \n",
      "\t0x01, 0x00, 0x00, 0x00, 0x01, 0x00, 0x00, 0x00, 0xc2, 0xff, 0xff, 0xff, \n",
      "\t0x00, 0x00, 0x00, 0x01, 0x10, 0x00, 0x00, 0x00, 0x10, 0x00, 0x00, 0x00, \n",
      "\t0x03, 0x00, 0x00, 0x00, 0x1c, 0x00, 0x00, 0x00, 0x48, 0xff, 0xff, 0xff, \n",
      "\t0x0f, 0x00, 0x00, 0x00, 0x61, 0x72, 0x69, 0x74, 0x68, 0x2e, 0x63, 0x6f, \n",
      "\t0x6e, 0x73, 0x74, 0x61, 0x6e, 0x74, 0x31, 0x00, 0x02, 0x00, 0x00, 0x00, \n",
      "\t0x10, 0x00, 0x00, 0x00, 0x10, 0x00, 0x00, 0x00, 0x00, 0x00, 0x16, 0x00, \n",
      "\t0x18, 0x00, 0x14, 0x00, 0x00, 0x00, 0x10, 0x00, 0x0c, 0x00, 0x08, 0x00, \n",
      "\t0x00, 0x00, 0x00, 0x00, 0x00, 0x00, 0x07, 0x00, 0x16, 0x00, 0x00, 0x00, \n",
      "\t0x00, 0x00, 0x00, 0x01, 0x10, 0x00, 0x00, 0x00, 0x10, 0x00, 0x00, 0x00, \n",
      "\t0x02, 0x00, 0x00, 0x00, 0x1c, 0x00, 0x00, 0x00, 0x9c, 0xff, 0xff, 0xff, \n",
      "\t0x0e, 0x00, 0x00, 0x00, 0x61, 0x72, 0x69, 0x74, 0x68, 0x2e, 0x63, 0x6f, \n",
      "\t0x6e, 0x73, 0x74, 0x61, 0x6e, 0x74, 0x00, 0x00, 0x02, 0x00, 0x00, 0x00, \n",
      "\t0x01, 0x00, 0x00, 0x00, 0x10, 0x00, 0x00, 0x00, 0x00, 0x00, 0x16, 0x00, \n",
      "\t0x1c, 0x00, 0x18, 0x00, 0x00, 0x00, 0x14, 0x00, 0x10, 0x00, 0x0c, 0x00, \n",
      "\t0x00, 0x00, 0x00, 0x00, 0x08, 0x00, 0x07, 0x00, 0x16, 0x00, 0x00, 0x00, \n",
      "\t0x00, 0x00, 0x00, 0x01, 0x14, 0x00, 0x00, 0x00, 0x20, 0x00, 0x00, 0x00, \n",
      "\t0x20, 0x00, 0x00, 0x00, 0x01, 0x00, 0x00, 0x00, 0x40, 0x00, 0x00, 0x00, \n",
      "\t0x02, 0x00, 0x00, 0x00, 0xff, 0xff, 0xff, 0xff, 0x01, 0x00, 0x00, 0x00, \n",
      "\t0x04, 0x00, 0x04, 0x00, 0x04, 0x00, 0x00, 0x00, 0x21, 0x00, 0x00, 0x00, \n",
      "\t0x73, 0x65, 0x72, 0x76, 0x69, 0x6e, 0x67, 0x5f, 0x64, 0x65, 0x66, 0x61, \n",
      "\t0x75, 0x6c, 0x74, 0x5f, 0x6b, 0x65, 0x72, 0x61, 0x73, 0x5f, 0x74, 0x65, \n",
      "\t0x6e, 0x73, 0x6f, 0x72, 0x5f, 0x31, 0x34, 0x3a, 0x30, 0x00, 0x00, 0x00, \n",
      "\t0x02, 0x00, 0x00, 0x00, 0x01, 0x00, 0x00, 0x00, 0x01, 0x00, 0x00, 0x00, \n",
      "\t0x01, 0x00, 0x00, 0x00, 0x10, 0x00, 0x00, 0x00, 0x0c, 0x00, 0x0c, 0x00, \n",
      "\t0x0b, 0x00, 0x00, 0x00, 0x00, 0x00, 0x04, 0x00, 0x0c, 0x00, 0x00, 0x00, \n",
      "\t0x09, 0x00, 0x00, 0x00, 0x00, 0x00, 0x00, 0x09\n",
      "};\n",
      "const int model_data_len = 3164;\n"
     ]
    }
   ],
   "source": [
    "from tinymlgen import port\n",
    "\n",
    "model = get_model()\n",
    "c_code = port(model, pretty_print=True)\n",
    "print(c_code)"
   ]
  },
  {
   "cell_type": "code",
   "execution_count": null,
   "id": "bf2193b5-2cae-4213-aceb-3c08a0fcb648",
   "metadata": {},
   "outputs": [],
   "source": []
  }
 ],
 "metadata": {
  "kernelspec": {
   "display_name": "Python 3 (ipykernel)",
   "language": "python",
   "name": "python3"
  },
  "language_info": {
   "codemirror_mode": {
    "name": "ipython",
    "version": 3
   },
   "file_extension": ".py",
   "mimetype": "text/x-python",
   "name": "python",
   "nbconvert_exporter": "python",
   "pygments_lexer": "ipython3",
   "version": "3.11.7"
  }
 },
 "nbformat": 4,
 "nbformat_minor": 5
}
